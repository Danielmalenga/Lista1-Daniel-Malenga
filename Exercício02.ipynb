{
  "cells": [
    {
      "cell_type": "code",
      "source": [],
      "metadata": {
        "id": "BUQ8pvvVboy6"
      },
      "id": "BUQ8pvvVboy6",
      "execution_count": null,
      "outputs": []
    },
    {
      "cell_type": "markdown",
      "source": [
        "2.O número de chamadas para o help-desk de uma empresa tem uma distribuição de Poisson com 60\n",
        "chamadas por um período de 10 horas. Se C = a variável aleatória para o número de chamadas por hora,\n",
        "encontre:\n",
        "a. A probabilidade de que o suporte técnico não receba chamadas em uma determinada hora.\n",
        "b. a probabilidade de que o suporte técnico receba menos de oito chamadas em uma\n",
        "determinada hora.\n",
        "c. O número médio de chamadas por hora E (C).\n",
        "d. A variância de C.\n",
        "e. O desvio padrão de C"
      ],
      "metadata": {
        "id": "eEQd1qYQbs1j"
      },
      "id": "eEQd1qYQbs1j"
    },
    {
      "cell_type": "code",
      "execution_count": null,
      "id": "05bb0f0a",
      "metadata": {
        "id": "05bb0f0a",
        "outputId": "31459c0d-ae91-4b7f-e8fa-6233d997e904"
      },
      "outputs": [
        {
          "name": "stdout",
          "output_type": "stream",
          "text": [
            "a. Probabilidade de não receber chamadas por hora: 0.0024787521766663585\n",
            "b. Probabilidade de menos oito por hora: 0.743979760453717\n",
            "c. Número médio de chamadas por hora: 6\n",
            "d. Variância do número de chamadas por hora: 6\n",
            "e. Desvio padrão do número de chamadas por hora: 2.449489742783178\n"
          ]
        }
      ],
      "source": [
        "\n",
        "import numpy as np\n",
        "import matplotlib.pyplot as plt\n",
        "import math\n",
        "\n",
        "# Função para calcular a probabilidade e Poisson\n",
        "def poisson_prob(lambd, x):\n",
        "    return math.exp(-lambd) * (lambd ** x) / math.factorial(x)\n",
        "\n",
        "# Parâmetros do problema\n",
        "lambd = 6  # Taxa média de chamadas por hora\n",
        "\n",
        "# a. Probabilidade de que o suporte técnico não receba chamadas em uma determinada hora\n",
        "prob_zero_calls = poisson_prob(lambd, 0)\n",
        "print(\"a. Probabilidade de não receber chamadas por hora:\", prob_zero_calls)\n",
        "\n",
        "# b. Probabilidade de que o suporte técnico receba menos de oito chamadas em uma determinada hora\n",
        "prob_less_than_eight_calls = sum(poisson_prob(lambd, x) for x in range(8))\n",
        "print(\"b. Probabilidade de menos oito por hora:\", prob_less_than_eight_calls)\n",
        "\n",
        "# c. Número médio de chamadas por hora\n",
        "mean_calls = lambd\n",
        "print(\"c. Número médio de chamadas por hora:\", mean_calls)\n",
        "\n",
        "# d. Variância do número de chamadas por hora\n",
        "var_calls = lambd\n",
        "print(\"d. Variância do número de chamadas por hora:\", var_calls)\n",
        "\n",
        "# e. Desvio padrão do número de chamadas por hora\n",
        "std_dev_calls = math.sqrt(var_calls)\n",
        "print(\"e. Desvio padrão do número de chamadas por hora:\", std_dev_calls)\n"
      ]
    },
    {
      "cell_type": "code",
      "execution_count": null,
      "id": "fdd842eb",
      "metadata": {
        "id": "fdd842eb"
      },
      "outputs": [],
      "source": []
    }
  ],
  "metadata": {
    "kernelspec": {
      "display_name": "Python 3 (ipykernel)",
      "language": "python",
      "name": "python3"
    },
    "language_info": {
      "codemirror_mode": {
        "name": "ipython",
        "version": 3
      },
      "file_extension": ".py",
      "mimetype": "text/x-python",
      "name": "python",
      "nbconvert_exporter": "python",
      "pygments_lexer": "ipython3",
      "version": "3.11.4"
    },
    "colab": {
      "provenance": []
    }
  },
  "nbformat": 4,
  "nbformat_minor": 5
}