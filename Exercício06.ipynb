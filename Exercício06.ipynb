{
  "cells": [
    {
      "cell_type": "markdown",
      "source": [
        "6) A distribuição discreta geométrica conta o número de tentativas até o primeiro sucesso. A pmf é dada\n",
        "por f(x)=p(1-p)x-1\n",
        ", onde p representa a probabilidade de sucesso e x o numero de tentativas. Fazer um\n",
        "algoritmo para a geração das variáveis aleatórias geométricas. Com o algoritmo proposto calcular:\n",
        "Uma urna tem 30 bolas brancas e 20 bolas pretas. Qual a probabilidade de que a 6ª bola\n",
        "retirada com reposição seja a primeira bola preta?"
      ],
      "metadata": {
        "id": "y8JyIHen6Hgg"
      },
      "id": "y8JyIHen6Hgg"
    },
    {
      "cell_type": "code",
      "execution_count": null,
      "id": "840bf15a",
      "metadata": {
        "id": "840bf15a",
        "outputId": "abdbc7cc-0450-437e-d039-61b85a93a892"
      },
      "outputs": [
        {
          "name": "stdout",
          "output_type": "stream",
          "text": [
            "[19. 13. 26. ... 29. 13. 17.]\n",
            "a probabilidade e 0.0053\n"
          ]
        },
        {
          "data": {
            "image/png": "[encoded data removed]",
            "text/plain": [
              "<Figure size 640x480 with 1 Axes>"
            ]
          },
          "metadata": {},
          "output_type": "display_data"
        }
      ],
      "source": [
        "import numpy as np\n",
        "import matplotlib.pyplot as plt\n",
        "import random\n",
        "\n",
        "## random.seed()\n",
        "\n",
        "lambda1=20 #Número médio de requisições\n",
        "N=10000 #Numero de amostras\n",
        "value=6\n",
        "count=50\n",
        "av=np.array([])\n",
        "x=np.random.uniform(0,1,N)\n",
        "for ix in x:\n",
        "    i = 0\n",
        "    pr = np.exp(-lambda1)\n",
        "    F=pr\n",
        "    while ix>=F:\n",
        "        pr=lambda1/(i+1)*pr\n",
        "        F = F + pr\n",
        "        i = i + 1;\n",
        "    a1=i\n",
        "    av=np.append(av,a1)\n",
        "\n",
        "print(av)\n",
        "\n",
        "for poissonvalue in av:\n",
        "    if poissonvalue==value:\n",
        "        count=count+1\n",
        "prob=count/N\n",
        "print(\"a probabilidade e\",prob)\n",
        "plt.hist(av,bins=14)\n",
        "plt.show()\n",
        "\n"
      ]
    },
    {
      "cell_type": "code",
      "execution_count": null,
      "id": "73c730fd",
      "metadata": {
        "id": "73c730fd"
      },
      "outputs": [],
      "source": []
    }
  ],
  "metadata": {
    "kernelspec": {
      "display_name": "Python 3 (ipykernel)",
      "language": "python",
      "name": "python3"
    },
    "language_info": {
      "codemirror_mode": {
        "name": "ipython",
        "version": 3
      },
      "file_extension": ".py",
      "mimetype": "text/x-python",
      "name": "python",
      "nbconvert_exporter": "python",
      "pygments_lexer": "ipython3",
      "version": "3.11.4"
    },
    "colab": {
      "provenance": []
    }
  },
  "nbformat": 4,
  "nbformat_minor": 5
}